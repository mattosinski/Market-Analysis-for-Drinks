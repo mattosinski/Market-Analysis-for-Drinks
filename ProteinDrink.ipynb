{
 "cells": [
  {
   "cell_type": "code",
   "execution_count": 153,
   "metadata": {
    "collapsed": false
   },
   "outputs": [],
   "source": [
    "from bs4 import BeautifulSoup\n",
    "import urllib.request\n",
    "import collections\n",
    "import re\n",
    "import json\n",
    "import ast\n",
    "import pandas as pd"
   ]
  },
  {
   "cell_type": "code",
   "execution_count": 147,
   "metadata": {
    "collapsed": false
   },
   "outputs": [],
   "source": [
    "def getSoup(url):\n",
    "    #url=\"http://www.gnc.com/CytoSport-Monster-Milk/product.jsp?productId=99487386&cp=88200676.106012736\"\n",
    "    content = urllib.request.urlopen(url)\n",
    "    soup = BeautifulSoup(content, \"html.parser\")\n",
    "    return soup"
   ]
  },
  {
   "cell_type": "code",
   "execution_count": 148,
   "metadata": {
    "collapsed": false
   },
   "outputs": [],
   "source": [
    "def getServingPerContainer(soup):\n",
    "    packageInfo = soup.find_all('td')\n",
    "    servingSize=\"\"\n",
    "    servingPerContainer=\"\"\n",
    "    for product in packageInfo:\n",
    "        #print(str(s.span)) \n",
    "        if str(product.span) == \"<span>Serving Size</span>\":\n",
    "            #print(s.contents[1])\n",
    "            servingSize = product.contents[1]\n",
    "        if str(product.span) == \"<span>Servings Per Container</span>\":\n",
    "            servingPerContainer = product.contents[1]\n",
    "            servingPerContainer = servingPerContainer.replace(\" \", \"\")\n",
    "    return servingPerContainer\n",
    "\n",
    "        "
   ]
  },
  {
   "cell_type": "code",
   "execution_count": 149,
   "metadata": {
    "collapsed": false
   },
   "outputs": [],
   "source": [
    "def removeUnit(value):\n",
    "    #Removes the units (mg, g) and places it in the key value\n",
    "    cleanUnit=\"\"\n",
    "    cleanValue=\"\"\n",
    "    cleanText = re.search(\"([0-9]+[\\.]*[0-9]*)\", value)\n",
    "    if cleanText:\n",
    "        cleanValue = cleanText.group(0)\n",
    "    cleanUnitText = re.search(\"([0-9]+[\\.]*[0-9]*) ([a-z]*)\",value)\n",
    "    if cleanUnitText:\n",
    "        cleanUnit = cleanUnitText.group(2)\n",
    "        cleanUnit = \" \" +cleanUnit\n",
    "    return cleanValue, cleanUnit"
   ]
  },
  {
   "cell_type": "code",
   "execution_count": 150,
   "metadata": {
    "collapsed": false
   },
   "outputs": [],
   "source": [
    "def parseNutrition(soup):\n",
    "    #\n",
    "    key=\"\"\n",
    "    value=\"\"\n",
    "    #Parse out the GNC nutrition information\n",
    "    nutrition = collections.OrderedDict()\n",
    "\n",
    "    #Get Product Title\n",
    "    productTitleScrape=soup.find_all(\"div\",{\"id\":\"product-title\"})\n",
    "    for title in productTitleScrape:\n",
    "        temp = title.find('h2')\n",
    "        if temp:\n",
    "            nutrition['productTitle'] = temp.text\n",
    "\n",
    "    #Get product Price\n",
    "    productPriceScrape = soup.find_all(\"div\",{\"class\":\"promo goldCard member-price\"})\n",
    "    memberPrice = productPriceScrape[1].text\n",
    "    p = re.search(\"\\$([0-9]+[\\.]*[0-9]*)\", memberPrice)\n",
    "    memberPrice = p.groups()[0]\n",
    "    nutrition['memberPrice']= memberPrice\n",
    "    \n",
    "    #Get Servings Per Container \n",
    "    nutrition['NumBottles'] = getServingPerContainer(soup)\n",
    "\n",
    "    #get Nutrition Information\n",
    "    tr = soup.find_all(\"tr\",{\"class\":\"group-nutrition-elements \"})\n",
    "    for row in tr:\n",
    "        cells = row.findAll(\"td\")\n",
    "        title = cells[0].string\n",
    "        field = cells[1].string\n",
    "        key = title + removeUnit(field)[1]\n",
    "        nutrition[key] = removeUnit(value)[0]\n",
    "        \n",
    "\n",
    "    tr = soup.find_all(\"tr\",{\"class\":\"group-ingredients \"})\n",
    "    for row in tr:\n",
    "        cells = row.findAll(\"td\")\n",
    "        title = cells[0].string\n",
    "        value = cells[1].string\n",
    "        value = removeUnit(value)[0]\n",
    "        key = title + removeUnit(value)[1]\n",
    "        nutrition[key] = removeUnit(value)[0]\n",
    "    \n",
    "    tr = soup.find_all(\"tr\",{\"class\":\"group-ingredients first\"})\n",
    "    for row in tr:\n",
    "        cells = row.findAll(\"td\")\n",
    "        title = cells[0].string\n",
    "        value = cells[1].string\n",
    "        value = removeUnit(value)[0]\n",
    "        key = title + removeUnit(value)[1]\n",
    "        nutrition[key] = removeUnit(value)[0]\n",
    "\n",
    "    tr = soup.find_all(\"tr\",{\"class\":\"group-nutrition-elements first\"})\n",
    "    for row in tr:\n",
    "        cells = row.findAll(\"td\")\n",
    "        title = cells[0].string\n",
    "        value = cells[1].string\n",
    "        value = removeUnit(value)[0]\n",
    "        key = title + removeUnit(value)[1]\n",
    "        nutrition[key] = removeUnit(value)[0]\n",
    "\n",
    "\n",
    "    #create df\n",
    "    df2 = pd.DataFrame(nutrition, index=[0])\n",
    "\n",
    "    return df2\n"
   ]
  },
  {
   "cell_type": "code",
   "execution_count": 151,
   "metadata": {
    "collapsed": false
   },
   "outputs": [],
   "source": [
    "def grabURLs(hyperlink):\n",
    "    soup2 = getSoup(hyperlink)\n",
    "    urlList = []\n",
    "    for dt in soup2.find_all(\"dt\"):\n",
    "        for link in dt.find_all(\"a\"):\n",
    "            url = \"http://www.gnc.com\" + link.get('href')\n",
    "            urlList.append(url)\n",
    "    return urlList\n",
    "\n",
    "        "
   ]
  },
  {
   "cell_type": "code",
   "execution_count": 154,
   "metadata": {
    "collapsed": false
   },
   "outputs": [],
   "source": [
    "#Get the Protein Drink Category\n",
    "df=pd.DataFrame()\n",
    "df2=pd.DataFrame()\n",
    "hyperlink = \"http://www.gnc.com/Food-Drink/Drinks/Protein-Drinks/family.jsp?categoryId=97952756\"\n",
    "urlList = grabURLs(hyperlink)\n",
    "for url in urlList:\n",
    "    soup = getSoup(url)\n",
    "    df2 = parseNutrition(soup)\n",
    "    df = df.append(df2, ignore_index=True)"
   ]
  },
  {
   "cell_type": "code",
   "execution_count": null,
   "metadata": {
    "collapsed": false
   },
   "outputs": [],
   "source": []
  }
 ],
 "metadata": {
  "kernelspec": {
   "display_name": "Python 3",
   "language": "python",
   "name": "python3"
  },
  "language_info": {
   "codemirror_mode": {
    "name": "ipython",
    "version": 3
   },
   "file_extension": ".py",
   "mimetype": "text/x-python",
   "name": "python",
   "nbconvert_exporter": "python",
   "pygments_lexer": "ipython3",
   "version": "3.4.2"
  }
 },
 "nbformat": 4,
 "nbformat_minor": 0
}
